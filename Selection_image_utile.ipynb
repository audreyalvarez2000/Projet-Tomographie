{
 "cells": [
  {
   "cell_type": "code",
   "execution_count": null,
   "id": "bf2f1c8f-506c-443a-93c9-872e0aa00632",
   "metadata": {},
   "outputs": [],
   "source": [
    "#Permet de selectionner les images utiles\n",
    "\n",
    "#Definir les bibliothèques\n",
    "import cv2\n",
    "import glob\n",
    "import numpy as np\n",
    "import matplotlib.pyplot as plt\n",
    "\n",
    "#Initialisation\n",
    "i=0\n",
    "dossier = '/Users/leapommier/Desktop/imagerectiff' \n",
    "num_image = [] #on definit des listes qui serviront à tracer les courbes\n",
    "blanc = []\n",
    "noir = []\n",
    "\n",
    "#\n",
    "for i in range(0,500):\n",
    "    num_image.append(i)#ajouter à la liste num_image\n",
    "    img = cv2.imread('nomdudossier/imagerecdeuxiemeversion%i.tiff'%i, cv2.IMREAD_GRAYSCALE)\n",
    "    ret, thresh1 = cv2.threshold(img, 120, 255, cv2.THRESH_BINARY) #permet de définir le seuil\n",
    "    n_white_pix = np.sum(thresh1 == 255)  #compter les pixels blancs dans l'image seuillée  \n",
    "    blanc.append(n_white_pix)\n",
    "    #print('Number of white pixels:', n_white_pix)\n",
    "    n_black_pix = np.sum(thresh1 == 0) #compter les pixels noirs dans l'image seuillée\n",
    "    noir.append(n_black_pix)\n",
    "    #print('Number of black pixels:', n_black_pix)\n",
    "\n",
    "#Affiche les graphiques pour trouver le numéro de l'image à partir de laquelle les reconstructions ne sont plus visibles.\n",
    "plt.subplot(121),plt.plot(num_image,blanc,\"r\")\n",
    "plt.subplot(122),plt.plot(num_image,noir,\"g\")"
   ]
  }
 ],
 "metadata": {
  "kernelspec": {
   "display_name": "Python 3 (ipykernel)",
   "language": "python",
   "name": "python3"
  },
  "language_info": {
   "codemirror_mode": {
    "name": "ipython",
    "version": 3
   },
   "file_extension": ".py",
   "mimetype": "text/x-python",
   "name": "python",
   "nbconvert_exporter": "python",
   "pygments_lexer": "ipython3",
   "version": "3.9.7"
  }
 },
 "nbformat": 4,
 "nbformat_minor": 5
}
