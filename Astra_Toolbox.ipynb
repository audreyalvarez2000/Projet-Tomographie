{
 "cells": [
  {
   "cell_type": "code",
   "execution_count": null,
   "id": "b631283d-d711-406f-86ed-e7a569f6a769",
   "metadata": {},
   "outputs": [],
   "source": [
    "#ALGORITHME ITERATIF ASTRA TOOLBOX\n",
    "\n",
    "#Definition des bibliothèques \n",
    "import dxchange \n",
    "import matplotlib.pyplot as plt\n",
    "import tomopy \n",
    "\n",
    "#Definir un dossier stack d'image à traiter\n",
    "fname='R:\\\\4eme Annee GP\\\\TP4\\\\RadioX\\\\ProjetTomo_A&L\\\\test081221\\\\test081221_0001.tif'\n",
    "ind = [i+1 for i in range(180)] \n",
    "proj = dxchange.reader.read_tiff_stack(fname,ind) \n",
    "\n",
    "#normaliser avec loi log pour loi de Beer Lambert\n",
    "proj=tomopy.minus_log(proj)\n",
    "\n",
    "#definir des angles uniformement espacés entre 0° et 180°\n",
    "ang=tomopy.angles(180)\n",
    "\n",
    "\n",
    "options={'proj_type': 'linear', 'method': 'FBP', 'num_iter':180}\n",
    "\n",
    "#Reconstruction avec Astra Toolbox à partir des options décrites au dessus\n",
    "recon=tomopy.recon(proj,ang,296,algorithm=tomopy.astra, options=options, ncore=1)\n",
    "recon=tomopy.circ_mask(recon,axis=0, ratio=0.95) #Appliquer un masque circulaire à un tableau 3D.\n",
    "\n",
    "#Affiche la 1ere image de reconstruction\n",
    "plt.imshow(recon[0,:,:])\n",
    "plt.show()"
   ]
  },
  {
   "cell_type": "code",
   "execution_count": null,
   "id": "45fb8b96-657a-4df6-9fe8-4c4ed060619e",
   "metadata": {},
   "outputs": [],
   "source": [
    "#ALGORITHME ITERATIF ASTRA TOOLBOX\n",
    "#Utilisation de la méthode CUDA utilisant un GPU\n",
    "\n",
    "\n",
    "#Definition des bibliothèques \n",
    "import dxchange \n",
    "import matplotlib.pyplot as plt\n",
    "import tomopy \n",
    "\n",
    "#Definir un dossier stack d'image à traiter\n",
    "fname='R:\\\\4eme Annee GP\\\\TP4\\\\RadioX\\\\ProjetTomo_A&L\\\\test081221\\\\test081221_0001.tif'\n",
    "ind = [i+1 for i in range(180)] \n",
    "proj = dxchange.reader.read_tiff_stack(fname,ind) \n",
    "\n",
    "#normaliser avec loi log pour loi de Beer Lambert\n",
    "proj=tomopy.minus_log(proj)\n",
    "\n",
    "#definir des angles uniformement espacés entre 0° et 180°\n",
    "ang=tomopy.angles(180)\n",
    "\n",
    "extra_options ={'MinConstraint':0}\n",
    "\n",
    "#methode utilisant un GPU, Permet d'avoir une reconstruction moins longue\n",
    "options = {'proj_type':'cuda', 'method':'SIRT_CUDA', 'num_iter':200, 'extra_options': extra_options}\n",
    "\n",
    "#Reconstruction avec Astra Toolbox à partir des options décrites au dessus\n",
    "recon = tomopy.recon(prj, theta, center=rot_center, algorithm=tomopy.astra, ncore=16, options=options)\n",
    "recon=tomopy.circ_mask(recon,axis=0, ratio=0.95) #Appliquer un masque circulaire à un tableau 3D.\n",
    "\n",
    "#Affiche la 1ere image de reconstruction\n",
    "plt.imshow(recon[0,:,:])\n",
    "plt.show()\n",
    "\n",
    "    "
   ]
  }
 ],
 "metadata": {
  "kernelspec": {
   "display_name": "Python 3 (ipykernel)",
   "language": "python",
   "name": "python3"
  },
  "language_info": {
   "codemirror_mode": {
    "name": "ipython",
    "version": 3
   },
   "file_extension": ".py",
   "mimetype": "text/x-python",
   "name": "python",
   "nbconvert_exporter": "python",
   "pygments_lexer": "ipython3",
   "version": "3.9.7"
  }
 },
 "nbformat": 4,
 "nbformat_minor": 5
}
