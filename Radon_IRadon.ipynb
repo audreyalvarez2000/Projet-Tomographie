{
 "cells": [
  {
   "cell_type": "code",
   "execution_count": null,
   "id": "8e243a53-f44c-417d-aed4-e947d4ed9fa2",
   "metadata": {},
   "outputs": [],
   "source": [
    "#TRANSFORMEE DE RADON ET INVERSE DE LA TRANSFORMEE DE RADON\n",
    "\n",
    "#DEFINITION DES BIBLIOTHEQUES\n",
    "import tomopy\n",
    "import dxchange\n",
    "import matplotlib.pyplot as plt\n",
    "import datetime\n",
    "import time\n",
    "\n",
    "from imagestacks import create_animation # permet de mettre une image en donnée dans un tableau\n",
    "from IPython.core.display import HTML\n",
    "import skimage\n",
    "\n",
    "\n",
    "#Definir les images à traiter\n",
    "fname='/Users/leapommier/Desktop/projet multi/tilt_0_180/carteSD120321_0000.tif'\n",
    "ind = [i for i in range(181)] \n",
    "print(ind)\n",
    "print(fname)\n",
    "proj = dxchange.reader.read_tiff_stack(fname,ind) \n",
    "\n",
    "#Initialisation\n",
    "img1 = proj[0,:,:] #Permet d'avoir que la 1ere image du stack\n",
    "theta = np.linspace(-90, 90., 180, endpoint=False) #Definir l'angle de -90 à 90 par pas de 1°\n",
    "sinogram1 = skimage.transform.radon(img1, theta=theta, circle=True) # Effectue la transformée de Radon sur l'image 1 \n",
    "added_image = cv2.addWeighted(sinogram1,0.35,sinogram1,0.35,0) #Permet de superposer les transformée de Radon entre elles\n",
    "\n",
    "# Même procédure pour tout le dossier d'image\n",
    "for k in range(1,181):\n",
    "    img = proj[k,:,:]\n",
    "    theta = np.linspace(-90, 90., 180, endpoint=False)\n",
    "    sinogramme = skimage.transform.radon(img, theta=theta, circle=True)\n",
    "    image_additionne = cv2.addWeighted(image_additionne,0.35,sinogramme,0.35,0)\n",
    "\n",
    "# Permet d'enregistrer l'image\n",
    "cv2.imwrite('combine.png', image_additionne)\n",
    "\n",
    "#Affiche l'image de la transformée de Radon\n",
    "plt.imshow(image_additionne, cmap='gray')\n",
    "plt.show()\n",
    "\n",
    "#Inverse de la transformée de Radon \n",
    "reconstruction = skimage.transform.iradon(image_additionne, theta=theta, circle=True)\n",
    "plt.imshow(reconstruction) #Affiche l'inverse de la transformée de Radon\n",
    "plt.show()"
   ]
  }
 ],
 "metadata": {
  "kernelspec": {
   "display_name": "Python 3 (ipykernel)",
   "language": "python",
   "name": "python3"
  },
  "language_info": {
   "codemirror_mode": {
    "name": "ipython",
    "version": 3
   },
   "file_extension": ".py",
   "mimetype": "text/x-python",
   "name": "python",
   "nbconvert_exporter": "python",
   "pygments_lexer": "ipython3",
   "version": "3.9.7"
  }
 },
 "nbformat": 4,
 "nbformat_minor": 5
}
