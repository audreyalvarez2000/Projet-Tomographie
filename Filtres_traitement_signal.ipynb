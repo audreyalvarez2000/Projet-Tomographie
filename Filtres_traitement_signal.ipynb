{
 "cells": [
  {
   "cell_type": "code",
   "execution_count": null,
   "id": "96284189-cb95-419d-813c-621fd657ef2c",
   "metadata": {},
   "outputs": [],
   "source": [
    "#Filtre de traitement d'image\n",
    "\n",
    "#Definir les bibliothèques\n",
    "import numpy as np\n",
    "import cv2\n",
    "from matplotlib import pyplot as plt\n",
    "from PIL import Image, ImageFilter\n",
    "%matplotlib inline\n",
    "\n",
    "#Ouverture de l'image à traiter\n",
    "image = cv2.imread('imagerec0.png') # lire l'image \n",
    "image2 = cv2.cvtColor(image, cv2.COLOR_BGR2GRAY ) # convertir BGR en RGB permet d'avoir sur 1 pixel une seule couleur et pas 3 \n",
    "plt.imshow(image2,cmap='gray') #converti en GRAY \n",
    "\n",
    "#Filtre\n",
    "figure_size = 9 # les dimension de l'axe x and y du noyau.\n",
    "new_image = cv2.blur(image2,(figure_size, figure_size)) #Filtre blur (flou)\n",
    "plt.figure(figsize=(11,6))\n",
    "\n",
    "#Affiche l'image d'origine et l'image après filtrage\n",
    "plt.subplot(121),plt.imshow(image2,cmap='gray'),plt.title('Original')\n",
    "plt.xticks([]), plt.yticks([])\n",
    "\n",
    "plt.subplot(122), plt.imshow(new_image, cmap='gray'),plt.title('filtre_blur')\n",
    "plt.xticks([]), plt.yticks([])\n",
    "plt.show()"
   ]
  },
  {
   "cell_type": "code",
   "execution_count": null,
   "id": "d1a42257-2a51-4282-a2f2-106b2b707853",
   "metadata": {},
   "outputs": [],
   "source": [
    "#Deuxieme filtre\n",
    "\n",
    "#Definir les bibliothèques\n",
    "import cv2\n",
    "import numpy as np\n",
    "import matplotlib.pyplot as plt\n",
    "import tomopy\n",
    "import dxchange\n",
    "import datetime\n",
    "import time\n",
    "import glob\n",
    "#import logging\n",
    "#logging.basicConfig(level=logging.INFO)\n",
    "from imagestacks import create_animation\n",
    "from IPython.core.display import HTML\n",
    "\n",
    "#Initialisation\n",
    "i=0\n",
    "dossier = '/Users/audreyaudrey/Desktop/Projet multi/tilt_0_180'\n",
    "num_image = [] #on definit des listes qui serviront à tracer les courbes\n",
    "\n",
    "#Bloucle pour traiter tout les images avec le filtre\n",
    "for image in glob.glob(dossier+\"/*.tif\"):\n",
    "    print('-----------------')\n",
    "    print('image n°: ',i)\n",
    "    num_image.append(i)#ajouter à la liste num_image\n",
    "    img = cv2.imread(image)# lire l'image\n",
    "    gaussian= cv2.GaussianBlur(img,(5,5),5) #Filtre GaussianBlur (flou gaussien suit une loi gaussienne)\n",
    "    \n",
    "    #Permet d'enregistrer les images filtrées\n",
    "    cv2.imwrite(\"/Users/audreyaudrey/Desktop/Projet multi/Dossier image traitée/imtrait%i.tif\"%i,gaussian)\n",
    "    \n",
    "    i+= 1"
   ]
  }
 ],
 "metadata": {
  "kernelspec": {
   "display_name": "Python 3 (ipykernel)",
   "language": "python",
   "name": "python3"
  },
  "language_info": {
   "codemirror_mode": {
    "name": "ipython",
    "version": 3
   },
   "file_extension": ".py",
   "mimetype": "text/x-python",
   "name": "python",
   "nbconvert_exporter": "python",
   "pygments_lexer": "ipython3",
   "version": "3.9.7"
  }
 },
 "nbformat": 4,
 "nbformat_minor": 5
}
