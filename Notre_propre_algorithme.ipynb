{
 "cells": [
  {
   "cell_type": "code",
   "execution_count": null,
   "id": "5ea19820-0361-4011-b276-2b274c124b40",
   "metadata": {},
   "outputs": [],
   "source": [
    "#NOTRE ALGORITHME BASEE SUR LA TRANSFORMEE DE RADON\n",
    "\n",
    "#Definition des bibliothèques \n",
    "import tomopy\n",
    "import dxchange\n",
    "import matplotlib.pyplot as plt\n",
    "import datetime\n",
    "import time\n",
    "from imagestacks import create_animation # permet de mettre une image en donnée dans un tableau\n",
    "from IPython.core.display import HTML\n",
    "import skimage\n",
    "import cv2\n",
    "import numpy as np\n",
    "from skimage.transform import iradon\n",
    "from skimage.transform import radon\n",
    "from skimage.exposure import rescale_intensity\n",
    "\n",
    "\n",
    "#Definir le dossier contenant les images à traiter \n",
    "fname='R:\\\\4eme Annee GP\\\\TP4\\\\RadioX\\\\ProjetTomo_A&L\\\\test081221\\\\test081221_0001.tif'\n",
    "ind = [i+1 for i in range(180)] \n",
    "proj = dxchange.reader.read_tiff_stack(fname,ind) \n",
    "\n",
    "#Permet de faire la transformée inverse de Radon sur toutes les images \n",
    "for k in range(180):\n",
    "    img1 = proj[k,:,:] \n",
    "    gaussian= cv2.GaussianBlur(img1,(5,5),5) #Filtre de gaussien sur les images \n",
    "    reconstructed = iradon(img1,np.linspace(0, 180, img1.shape[1], endpoint=False), filter_name='hann') # Inverse de la transformée de Radon avec filtre de Hanning\n",
    "    reconstructed1 = iradon(gaussian,np.linspace(0, 180, img1.shape[1], endpoint=False))# Inverse de la transformée de Radon \n",
    "    reconstructed2 = iradon(gaussian,np.linspace(0, 180, img1.shape[1], endpoint=False), filter_name='hamming')# Inverse de la transformée de Radon avec filtre de Hamming\n",
    "    \n",
    "    #Permet d'enregistrer la reconstruction\n",
    "    cv2.imwrite('R:\\\\4eme Annee GP\\\\TP4\\\\RadioX\\\\ProjetTomo_A&L\\\\test_reconstruc_radon\\\\test%i.png'%k,reconstructed)\n",
    "   \n",
    "#permet d'afficher les images de reconstruction avec les differents filtres\n",
    "plt.subplot(121),plt.imshow(reconstructed,cmap=\"gray\"),plt.title('filtre hanning')\n",
    "plt.subplot(122),plt.imshow(reconstructed1,cmap=\"gray\"),plt.title('filtre gaussian')\n",
    "plt.subplot(131),plt.imshow(reconstructed2,cmap=\"gray\"),plt.title('filtre hamming')\n",
    "plt.show()\n",
    "\n"
   ]
  }
 ],
 "metadata": {
  "kernelspec": {
   "display_name": "Python 3 (ipykernel)",
   "language": "python",
   "name": "python3"
  },
  "language_info": {
   "codemirror_mode": {
    "name": "ipython",
    "version": 3
   },
   "file_extension": ".py",
   "mimetype": "text/x-python",
   "name": "python",
   "nbconvert_exporter": "python",
   "pygments_lexer": "ipython3",
   "version": "3.9.7"
  }
 },
 "nbformat": 4,
 "nbformat_minor": 5
}
