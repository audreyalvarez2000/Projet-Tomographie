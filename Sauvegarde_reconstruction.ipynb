{
 "cells": [
  {
   "cell_type": "code",
   "execution_count": null,
   "id": "c8c12db9-62ad-4f98-a1d1-51a902c3532f",
   "metadata": {},
   "outputs": [],
   "source": [
    "#Sauvegarde d'image de reconstruction\n",
    "\n",
    "import matplotlib.image as mpim #Definir la bibliothèque\n",
    "\n",
    "IMAGE=\"imagerec%d.tiff\" #Nom des images reconstruit\n",
    "for i in range (0,694):\n",
    "    fichier=IMAGE %i # permet de donner le nom de l'image avec le numéro de l'image associée\n",
    "    mpim.imsave(fichier,rec[i,100:350,100:350]) #Permet de sauvegarder toute la reconstruction\n",
    "    i=i+1"
   ]
  },
  {
   "cell_type": "code",
   "execution_count": null,
   "id": "a361f9aa-0fb9-41ee-86fe-392415b1402b",
   "metadata": {},
   "outputs": [],
   "source": [
    "#Deuxième facon de sauvegarder les images de la reconstruction\n",
    "cv2.imwrite('nom du chemin/image%i.png'%k,reconstruction) "
   ]
  }
 ],
 "metadata": {
  "kernelspec": {
   "display_name": "Python 3 (ipykernel)",
   "language": "python",
   "name": "python3"
  },
  "language_info": {
   "codemirror_mode": {
    "name": "ipython",
    "version": 3
   },
   "file_extension": ".py",
   "mimetype": "text/x-python",
   "name": "python",
   "nbconvert_exporter": "python",
   "pygments_lexer": "ipython3",
   "version": "3.9.7"
  }
 },
 "nbformat": 4,
 "nbformat_minor": 5
}
